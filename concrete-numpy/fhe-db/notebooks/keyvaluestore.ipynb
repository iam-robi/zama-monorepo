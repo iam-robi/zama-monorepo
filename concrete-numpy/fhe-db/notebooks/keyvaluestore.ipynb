{
 "cells": [
  {
   "cell_type": "code",
   "execution_count": 1,
   "id": "9c0d83e4",
   "metadata": {},
   "outputs": [],
   "source": [
    "import concrete.numpy as cp\n",
    "import numpy as np"
   ]
  },
  {
   "cell_type": "markdown",
   "id": "caf4409b",
   "metadata": {},
   "source": []
  },
  {
   "cell_type": "code",
   "execution_count": 2,
   "id": "04655b71",
   "metadata": {},
   "outputs": [],
   "source": [
    "import uvicorn"
   ]
  },
  {
   "cell_type": "code",
   "execution_count": null,
   "id": "6131a0b3",
   "metadata": {},
   "outputs": [],
   "source": [
    "# The number of entries in the database\n",
    "NUMBER_OF_ENTRIES = 5\n",
    "# The number of bits in each chunk\n",
    "CHUNK_SIZE = 4\n",
    "\n",
    "# The number of bits in the key and value\n",
    "KEY_SIZE = 32\n",
    "VALUE_SIZE = 32\n"
   ]
  },
  {
   "cell_type": "code",
   "execution_count": 5,
   "id": "98ab740b",
   "metadata": {},
   "outputs": [],
   "source": [
    "# Key and Value size must be a multiple of chunk size\n",
    "assert KEY_SIZE % CHUNK_SIZE == 0\n",
    "assert VALUE_SIZE % CHUNK_SIZE == 0\n",
    "\n",
    "# Required number of chunks to store keys and values\n",
    "NUMBER_OF_KEY_CHUNKS = KEY_SIZE // CHUNK_SIZE\n",
    "NUMBER_OF_VALUE_CHUNKS = VALUE_SIZE // CHUNK_SIZE\n",
    "\n",
    "# The shape of the state as a tensor\n",
    "# Shape:\n",
    "# | Flag Size | Key Size | Value Size |\n",
    "# | 1         | 32/4 = 8 | 32/4 = 8   |\n",
    "STATE_SHAPE = (NUMBER_OF_ENTRIES, 1 + NUMBER_OF_KEY_CHUNKS + NUMBER_OF_VALUE_CHUNKS)"
   ]
  },
  {
   "cell_type": "code",
   "execution_count": 6,
   "id": "529160d8",
   "metadata": {},
   "outputs": [
    {
     "data": {
      "text/plain": [
       "8"
      ]
     },
     "execution_count": 6,
     "metadata": {},
     "output_type": "execute_result"
    }
   ],
   "source": [
    "NUMBER_OF_KEY_CHUNKS"
   ]
  },
  {
   "cell_type": "code",
   "execution_count": null,
   "id": "4f566fa0",
   "metadata": {},
   "outputs": [],
   "source": []
  }
 ],
 "metadata": {
  "kernelspec": {
   "display_name": "Python 3 (ipykernel)",
   "language": "python",
   "name": "python3"
  },
  "language_info": {
   "codemirror_mode": {
    "name": "ipython",
    "version": 3
   },
   "file_extension": ".py",
   "mimetype": "text/x-python",
   "name": "python",
   "nbconvert_exporter": "python",
   "pygments_lexer": "ipython3",
   "version": "3.10.6"
  }
 },
 "nbformat": 4,
 "nbformat_minor": 5
}
