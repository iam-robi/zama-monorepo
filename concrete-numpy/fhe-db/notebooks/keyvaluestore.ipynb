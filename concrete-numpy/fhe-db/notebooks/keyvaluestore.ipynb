{
 "cells": [
  {
   "cell_type": "code",
   "execution_count": 8,
   "id": "9c0d83e4",
   "metadata": {},
   "outputs": [],
   "source": [
    "import concrete.numpy as cnp\n",
    "import numpy as np"
   ]
  },
  {
   "cell_type": "code",
   "execution_count": 9,
   "id": "6131a0b3",
   "metadata": {},
   "outputs": [],
   "source": [
    "# The number of entries in the database\n",
    "NUMBER_OF_ENTRIES = 5\n",
    "# The number of bits in each chunk\n",
    "CHUNK_SIZE = 4\n",
    "\n",
    "# The number of bits in the key and value\n",
    "KEY_SIZE = 32\n",
    "VALUE_SIZE = 32"
   ]
  },
  {
   "cell_type": "code",
   "execution_count": 10,
   "id": "98ab740b",
   "metadata": {},
   "outputs": [],
   "source": [
    "# Key and Value size must be a multiple of chunk size\n",
    "assert KEY_SIZE % CHUNK_SIZE == 0\n",
    "assert VALUE_SIZE % CHUNK_SIZE == 0\n",
    "\n",
    "# Required number of chunks to store keys and values\n",
    "NUMBER_OF_KEY_CHUNKS = KEY_SIZE // CHUNK_SIZE\n",
    "NUMBER_OF_VALUE_CHUNKS = VALUE_SIZE // CHUNK_SIZE\n",
    "\n",
    "# The shape of the state as a tensor\n",
    "# Shape:\n",
    "# | Flag Size | Key Size | Value Size |\n",
    "# | 1         | 32/4 = 8 | 32/4 = 8   |\n",
    "STATE_SHAPE = (NUMBER_OF_ENTRIES, 1 + NUMBER_OF_KEY_CHUNKS + NUMBER_OF_VALUE_CHUNKS)"
   ]
  },
  {
   "cell_type": "code",
   "execution_count": 11,
   "id": "529160d8",
   "metadata": {},
   "outputs": [],
   "source": [
    "# Indexers for each part of the state\n",
    "FLAG = 0\n",
    "KEY = slice(1, 1 + NUMBER_OF_KEY_CHUNKS)\n",
    "VALUE = slice(1 + NUMBER_OF_KEY_CHUNKS, None)"
   ]
  },
  {
   "cell_type": "code",
   "execution_count": 12,
   "id": "4f566fa0",
   "metadata": {},
   "outputs": [
    {
     "data": {
      "text/plain": [
       "slice(1, 9, None)"
      ]
     },
     "execution_count": 12,
     "metadata": {},
     "output_type": "execute_result"
    }
   ],
   "source": [
    "KEY"
   ]
  },
  {
   "cell_type": "code",
   "execution_count": 13,
   "id": "0010cc03",
   "metadata": {},
   "outputs": [],
   "source": [
    "\n",
    "def encode(number: int, width: int) -> np.array:\n",
    "    binary_repr = np.binary_repr(number, width=width)\n",
    "    blocks = [binary_repr[i:i+CHUNK_SIZE] for i in range(0, len(binary_repr), CHUNK_SIZE)]\n",
    "    return np.array([int(block, 2) for block in blocks])\n",
    "\n",
    "# Encode a number with the key size\n",
    "def encode_key(number: int) -> np.array:\n",
    "    return encode(number, width=KEY_SIZE)\n",
    "\n",
    "# Encode a number with the value size\n",
    "def encode_value(number: int) -> np.array:\n",
    "    return encode(number, width=VALUE_SIZE)"
   ]
  },
  {
   "cell_type": "code",
   "execution_count": 14,
   "id": "d13977f5",
   "metadata": {},
   "outputs": [],
   "source": [
    "def decode(encoded_number: np.array) -> int:\n",
    "    result = 0\n",
    "    for i in range(len(encoded_number)):\n",
    "        result += 2**(CHUNK_SIZE*i) * encoded_number[(len(encoded_number) - i) - 1]\n",
    "    return result"
   ]
  },
  {
   "cell_type": "code",
   "execution_count": 15,
   "id": "b49bbb81",
   "metadata": {},
   "outputs": [],
   "source": [
    "def keep_selected(value, selected):\n",
    "  if selected:\n",
    "      return value\n",
    "  else:\n",
    "      return 0"
   ]
  },
  {
   "cell_type": "code",
   "execution_count": 16,
   "id": "82cf2e60",
   "metadata": {},
   "outputs": [],
   "source": [
    "keep_selected_lut = cnp.LookupTable([0 for _ in range(16)] + [i for i in range(16)])\n"
   ]
  },
  {
   "cell_type": "code",
   "execution_count": null,
   "id": "aba1f2e7",
   "metadata": {},
   "outputs": [],
   "source": []
  }
 ],
 "metadata": {
  "kernelspec": {
   "display_name": "Python 3 (ipykernel)",
   "language": "python",
   "name": "python3"
  },
  "language_info": {
   "codemirror_mode": {
    "name": "ipython",
    "version": 3
   },
   "file_extension": ".py",
   "mimetype": "text/x-python",
   "name": "python",
   "nbconvert_exporter": "python",
   "pygments_lexer": "ipython3",
   "version": "3.10.6"
  }
 },
 "nbformat": 4,
 "nbformat_minor": 5
}
